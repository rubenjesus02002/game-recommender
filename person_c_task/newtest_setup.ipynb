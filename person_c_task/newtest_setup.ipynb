{
  "nbformat": 4,
  "nbformat_minor": 0,
  "metadata": {
    "colab": {
      "provenance": []
    },
    "kernelspec": {
      "name": "python3",
      "display_name": "Python 3"
    },
    "language_info": {
      "name": "python"
    }
  },
  "cells": [
    {
      "cell_type": "code",
      "execution_count": null,
      "metadata": {
        "id": "747DGptYstLO"
      },
      "outputs": [],
      "source": [
        "import sys\n",
        "import os\n",
        "from dotenv import load_dotenv\n",
        "import requests"
      ]
    },
    {
      "cell_type": "code",
      "source": [
        "def check_environment():\n",
        "    \"\"\"Check that the environment is correctly set up\"\"\"\n",
        "\n",
        "    # Check Python version\n",
        "    print(f\"Python version: {sys.version}\")\n",
        "\n",
        "    # Check virtual environment\n",
        "    if hasattr(sys, 'real_prefix') or (hasattr(sys, 'base_prefix') and\n",
        "sys.base_prefix != sys.prefix):\n",
        "        print(\"✅ Virtual environment is active\")\n",
        "    else:\n",
        "        print(\"❌ Virtual environment is NOT active\")\n",
        "\n",
        "    # Check required packages\n",
        "    try:\n",
        "        import gradio\n",
        "        print(f\"✅ Gradio installed (version {gradio.__version__})\")\n",
        "    except ImportError:\n",
        "        print(\"❌ Gradio not installed\")\n",
        "\n",
        "    try:\n",
        "        import ollama\n",
        "        print(f\"✅ Ollama client installed\")\n",
        "    except ImportError:\n",
        "        print(\"❌ Ollama client not installed\")\n",
        "\n",
        "    # Check .env file\n",
        "    load_dotenv()\n",
        "    game_api_key = os.getenv(\"fae59a1407mshde9b98095612a09p14af8ajsne7a45c1b0292\")\n",
        "    if game_api_key:\n",
        "        print(\"✅ GAME API key found in .env file\")\n",
        "    else:\n",
        "        print(\"❌ GAME API key not found in .env file\")\n",
        "\n",
        "    # Check Ollama availability\n",
        "    try:\n",
        "        response = requests.post(\n",
        "            \"https://opencritic-api.p.rapidapi.com/game\",\n",
        "            json={\n",
        "                \"model\": \"mistral\",\n",
        "                \"prompt\": \"Hello\",\n",
        "                \"stream\": False\n",
        "            }\n",
        "        )\n",
        "        if response.status_code == 200:\n",
        "            print(\"✅ Ollama is running and responding\")\n",
        "        else:\n",
        "            print(f\"❌ Ollama returned status code: {response.status_code}\")\n",
        "    except Exception as e:\n",
        "        print(f\"❌ Ollama not available: {str(e)}\")\n",
        "        print(\"Make sure Ollama is installed and running.\")\n",
        "\n",
        "if __name__ == \"__main__\":\n",
        "    check_environment()"
      ],
      "metadata": {
        "id": "rHNUssaJsuLj"
      },
      "execution_count": null,
      "outputs": []
    }
  ]
}