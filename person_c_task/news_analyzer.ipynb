{
  "nbformat": 4,
  "nbformat_minor": 0,
  "metadata": {
    "colab": {
      "provenance": []
    },
    "kernelspec": {
      "name": "python3",
      "display_name": "Python 3"
    },
    "language_info": {
      "name": "python"
    }
  },
  "cells": [
    {
      "cell_type": "code",
      "execution_count": 4,
      "metadata": {
        "id": "SBtZNPyGuYTg"
      },
      "outputs": [],
      "source": [
        "import gradio as gr\n",
        "import requests\n",
        "import os\n",
        "from dotenv import load_dotenv"
      ]
    },
    {
      "cell_type": "code",
      "source": [
        "# Load environment variables\n",
        "load_dotenv()\n",
        "\n",
        "# Get API key from environment\n",
        "GAME_API_KEY = os.getenv(\"GAME_API_KEY\")\n",
        "if not GAME_API_KEY:\n",
        "    print(\"Warning: GAME_API_KEY not found in environment variables.\")\n",
        "    print(\"Please create a .env file with your GAME API key.\")\n",
        "\n",
        "# Verify the setup\n",
        "print(\"Environment setup complete!\")\n",
        "print(f\"GAME API Key available: {'Yes' if GAME_API_KEY else 'No'}\")\n",
        "\n",
        "# Simple Gradio interface to verify it's working\n",
        "with gr.Blocks(title=\"Environment Test\") as demo:\n",
        "    gr.Markdown(\"# Environment Test\")\n",
        "    gr.Markdown(\"If you can see this, Gradio is working correctly!\")\n",
        "\n",
        "    with gr.Row():\n",
        "        input_text = gr.Textbox(label=\"Enter some text\")\n",
        "        output_text = gr.Textbox(label=\"Output\")\n",
        "\n",
        "    def echo(text):\n",
        "        return f\"You entered: {text}\"\n",
        "\n",
        "    btn = gr.Button(\"Submit\")\n",
        "    btn.click(fn=echo, inputs=input_text, outputs=output_text)\n",
        "\n",
        "if __name__ == \"__main__\":\n",
        "    demo.launch()"
      ],
      "metadata": {
        "id": "wlPofAK5ubzb"
      },
      "execution_count": null,
      "outputs": []
    }
  ]
}